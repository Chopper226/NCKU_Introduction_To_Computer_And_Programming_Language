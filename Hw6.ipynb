{
  "cells": [
    {
      "cell_type": "markdown",
      "metadata": {
        "id": "B2I5Q2PTlCL-"
      },
      "source": [
        "2024/04/10 上課內容：類別、物件導向以及Python模組介紹頁面\n"
      ]
    },
    {
      "cell_type": "markdown",
      "metadata": {
        "id": "h0vGYfhMvJ7A"
      },
      "source": [
        "## 類別\n",
        "\n",
        "就是class"
      ]
    },
    {
      "cell_type": "code",
      "execution_count": null,
      "metadata": {
        "colab": {
          "base_uri": "https://localhost:8080/"
        },
        "id": "BN6RTKoOvJEc",
        "outputId": "c25d2159-de06-48e4-b84c-ceb61a142ad5"
      },
      "outputs": [
        {
          "name": "stdout",
          "output_type": "stream",
          "text": [
            "<class 'list'>\n"
          ]
        }
      ],
      "source": [
        "L = [1,2,3]\n",
        "print(type(L)) # 注意一下最前面的關鍵字"
      ]
    },
    {
      "cell_type": "markdown",
      "metadata": {
        "id": "-BW6N2ujwtZ4"
      },
      "source": [
        "自己創建一個類別，假設我們想要處理一個群的問題，然後這個群有它的元素，以及它自己的加法"
      ]
    },
    {
      "cell_type": "code",
      "execution_count": null,
      "metadata": {
        "colab": {
          "base_uri": "https://localhost:8080/"
        },
        "id": "QDNhpB3HwxlY",
        "outputId": "f22443fd-7115-4e09-90e1-799100eac3f0"
      },
      "outputs": [
        {
          "name": "stdout",
          "output_type": "stream",
          "text": [
            "<class 'function'>\n",
            "True\n",
            "<class '__main__.Operator'>\n",
            "<class 'list'>\n"
          ]
        }
      ],
      "source": [
        "def add(a,b,p):       # 函數\n",
        "  return (a+b) % p    # 計算a+b除以p的餘數\n",
        "\n",
        "\n",
        "class Operator:       # 定義一個類別(class)\n",
        "  def __init__(self, opname, op): # 類別一開始產生的時候，會有的東西\n",
        "    self.name = opname      # name 自已定義的，要有什麼tag都可以\n",
        "    self.fun = op         # fun 自己定義的，\n",
        "\n",
        "ADD = Operator(\"Add mod prime\", add)  # 把ADD定義成一個Operator的類別，其中的函數是add\n",
        "\n",
        "print(type(add))\n",
        "print(isinstance(ADD,Operator))\n",
        "print(ADD.__class__)\n",
        "print(type(L))\n",
        "\n",
        "def mul(a,b,p):         # 乘法函數\n",
        "  return (a*b) % p\n",
        "\n",
        "MUL = Operator(\"Multiply mod prime\", mul) # 把MUL定義成一個Operator的類別，其中的函數是mul\n"
      ]
    },
    {
      "cell_type": "markdown",
      "metadata": {
        "id": "kDIsqrIKO_yF"
      },
      "source": [
        "再把運算子包在另一個類別中"
      ]
    },
    {
      "cell_type": "code",
      "execution_count": null,
      "metadata": {
        "colab": {
          "base_uri": "https://localhost:8080/"
        },
        "id": "k5WDKIydPALx",
        "outputId": "02011e17-f515-4695-dc84-db1fd09a7eda"
      },
      "outputs": [
        {
          "name": "stdout",
          "output_type": "stream",
          "text": [
            "Group name: Z5\n",
            "Elements: [0, 1, 2, 3, 4] with Add mod prime 5\n",
            "Identity: 0\n",
            "Group name: Z7\n",
            "Elements: [0, 1, 2, 3, 4, 5, 6] with Multiply mod prime 7\n",
            "Identity: 1\n",
            "Operator: Multiply mod prime\n",
            "[0, 0, 0, 0, 0, 0, 0]\n",
            "[0, 1, 2, 3, 4, 5, 6]\n",
            "[0, 2, 4, 6, 1, 3, 5]\n",
            "[0, 3, 6, 2, 5, 1, 4]\n",
            "[0, 4, 1, 5, 2, 6, 3]\n",
            "[0, 5, 3, 1, 6, 4, 2]\n",
            "[0, 6, 5, 4, 3, 2, 1]\n"
          ]
        }
      ],
      "source": [
        "class Group:                  # 群-->大二代數課\n",
        "  def __init__(self, group_name, op, prime):\n",
        "    self.group_name = group_name\n",
        "    self.op = op\n",
        "    self.prime = prime\n",
        "    self.elements = list(range(0,prime))\n",
        "    self.identity = None\n",
        "\n",
        "  def info(self):\n",
        "    print(f\"Group name: {self.group_name}\")\n",
        "    print(f\"Elements: {self.elements} with {self.op.name} {self.prime}\")\n",
        "    if self.identity == None:\n",
        "      self.find_identity()\n",
        "    print(f\"Identity: {self.identity}\")\n",
        "\n",
        "  def op_table(self,op=None):   # optional input\n",
        "    if op == None:\n",
        "      op = self.op\n",
        "    print(f\"Operator: {op.name}\")\n",
        "    for a in self.elements:\n",
        "      c = []\n",
        "      for b in self.elements:\n",
        "        c.append(op.fun(a,b,self.prime))  # c = a+b\n",
        "      print(c)\n",
        "\n",
        "  def find_identity(self,op=None):\n",
        "    if op == None:\n",
        "      op = self.op\n",
        "    for x in self.elements:\n",
        "      identity = True\n",
        "      for y in self.elements:\n",
        "        if op.fun(x,y,self.prime) != y:\n",
        "          identity = False\n",
        "      if identity:\n",
        "        self.identity = x\n",
        "\n",
        "Z5 = Group(\"Z5\", ADD, 5) # --> 執行 __init__(Z5, \"Z5\", ADD, 5)\n",
        "Z5.info()\n",
        "Z7 = Group(\"Z7\", MUL, 7)\n",
        "Z7.info()\n",
        "Z7.op_table()"
      ]
    },
    {
      "cell_type": "markdown",
      "metadata": {
        "id": "4IsfuwoYwh7P"
      },
      "source": [
        "## 繼承\n",
        "\n",
        "如果其他的類別，還要之前設定類別的功能，就用繼承。舉例來說，一個Ring一定要有一個Group的結構\n",
        "(這個等到大二代數課你們再去了解吧 XDDDDD)"
      ]
    },
    {
      "cell_type": "code",
      "execution_count": null,
      "metadata": {
        "colab": {
          "base_uri": "https://localhost:8080/"
        },
        "id": "5hqmlR5ywkQ3",
        "outputId": "7f1209d0-350d-4361-d3c1-96101c1ad5c3"
      },
      "outputs": [
        {
          "name": "stdout",
          "output_type": "stream",
          "text": [
            "Group name: R5的爸爸\n",
            "Elements: [0, 1, 2, 3, 4] with Add mod prime 5\n",
            "Identity: 0\n",
            "and operator Multiply mod prime 5\n",
            "Operator: Add mod prime\n",
            "[0, 1, 2, 3, 4]\n",
            "[1, 2, 3, 4, 0]\n",
            "[2, 3, 4, 0, 1]\n",
            "[3, 4, 0, 1, 2]\n",
            "[4, 0, 1, 2, 3]\n",
            "Operator: Multiply mod prime\n",
            "[0, 0, 0, 0, 0]\n",
            "[0, 1, 2, 3, 4]\n",
            "[0, 2, 4, 1, 3]\n",
            "[0, 3, 1, 4, 2]\n",
            "[0, 4, 3, 2, 1]\n"
          ]
        }
      ],
      "source": [
        "def mul(a,b,p):\n",
        "  return (a*b) % p\n",
        "\n",
        "MUL = Operator(\"Multiply mod prime\", mul)\n",
        "\n",
        "class Ring(Group):        # Ring 是一個繼承 Group 的類別\n",
        "  def __init__(self, ring_name, op1, op2, prime):\n",
        "    super().__init__(ring_name+\"的爸爸\", op1, prime) # 寫完這一行，代表Ring也是一個op1, prime的Group，繼承了Group的prime跟op\n",
        "    self.ring_name = ring_name\n",
        "    self.op2 = op2\n",
        "    #self.op = op1 這個就不用寫了\n",
        "    #self.prime = prime 這個也不用寫了\n",
        "\n",
        "  def info(self):\n",
        "    super().info()  # 如果下面沒寫，這一行不用寫也是同一個情況，因為它繼承了Group的info\n",
        "    print(f\"and operator {self.op2.name} {self.prime}\")\n",
        "\n",
        "  def op_table(self):\n",
        "    super().op_table()\n",
        "    super().op_table(self.op2)\n",
        "\n",
        "# 創建一個\n",
        "R5 = Ring(\"R5\", ADD, MUL, 5)\n",
        "R5.info()\n",
        "R5.op_table()\n",
        "#R5.all_table()\n"
      ]
    },
    {
      "cell_type": "markdown",
      "metadata": {
        "id": "7b0vRnmqOf2b"
      },
      "source": [
        "# 模組\n",
        "\n",
        "當你覺得你寫的函數，物件，類別多到可以處理一些事情了，你可以把它放在一個.py檔案裡面，透過 import 的方式讀進來"
      ]
    },
    {
      "cell_type": "code",
      "execution_count": null,
      "metadata": {
        "colab": {
          "base_uri": "https://localhost:8080/"
        },
        "id": "_6FU9N46JKom",
        "outputId": "64dd197c-2811-4f79-b2f9-49ef11faf5b4"
      },
      "outputs": [
        {
          "name": "stdout",
          "output_type": "stream",
          "text": [
            "YA\n"
          ]
        }
      ],
      "source": [
        "import mygroup   # 就是把mygroup.py 執行過一次"
      ]
    },
    {
      "cell_type": "code",
      "execution_count": null,
      "metadata": {
        "colab": {
          "base_uri": "https://localhost:8080/"
        },
        "id": "Tp5r0xCoJZQ4",
        "outputId": "575c35b4-9d6b-44d8-8589-28100d9a1e37"
      },
      "outputs": [
        {
          "name": "stdout",
          "output_type": "stream",
          "text": [
            "Group name: Integer mod 5\n",
            "Elements: [0, 1, 2, 3, 4] with Multiply mod prime 5\n",
            "Identity: 1\n"
          ]
        }
      ],
      "source": [
        "mygroup.add(2,8,7)\n",
        "\n",
        "U5 = mygroup.Group(\"Integer mod 5\", MUL, 5)\n",
        "U5.info()"
      ]
    },
    {
      "cell_type": "markdown",
      "metadata": {
        "id": "xf4sJpadJKUB"
      },
      "source": []
    },
    {
      "cell_type": "code",
      "execution_count": null,
      "metadata": {
        "colab": {
          "base_uri": "https://localhost:8080/"
        },
        "id": "eSJvyX540Pjl",
        "outputId": "33ec8440-c523-4bcf-8427-608ff1520702"
      },
      "outputs": [
        {
          "name": "stdout",
          "output_type": "stream",
          "text": [
            "1\n",
            "Group name: Z7\n",
            "Elements: [0, 1, 2, 3, 4, 5, 6] with Add mod prime 7\n",
            "Identity: 0\n",
            "and operator Multiply mod prime 7\n",
            "Operator: Add mod prime\n",
            "[0, 1, 2, 3, 4, 5, 6]\n",
            "[1, 2, 3, 4, 5, 6, 0]\n",
            "[2, 3, 4, 5, 6, 0, 1]\n",
            "[3, 4, 5, 6, 0, 1, 2]\n",
            "[4, 5, 6, 0, 1, 2, 3]\n",
            "[5, 6, 0, 1, 2, 3, 4]\n",
            "[6, 0, 1, 2, 3, 4, 5]\n",
            "Operator: Multiply mod prime\n",
            "[0, 0, 0, 0, 0, 0, 0]\n",
            "[0, 1, 2, 3, 4, 5, 6]\n",
            "[0, 2, 4, 6, 1, 3, 5]\n",
            "[0, 3, 6, 2, 5, 1, 4]\n",
            "[0, 4, 1, 5, 2, 6, 3]\n",
            "[0, 5, 3, 1, 6, 4, 2]\n",
            "[0, 6, 5, 4, 3, 2, 1]\n"
          ]
        }
      ],
      "source": [
        "import mygroup as mg   # 取一個好用的名字\n",
        "\n",
        "print(mg.Operators[\"MUL\"].fun(2,3,5))\n",
        "\n",
        "Z7 = mg.Z(7)\n",
        "Z7.info()\n",
        "Z7.all_table()"
      ]
    },
    {
      "cell_type": "markdown",
      "metadata": {
        "id": "UawCXevXh2Mw"
      },
      "source": [
        "所以，下面的程式，就是在跟你說，someone寫了一個sys.py放在python可以找到module的地方，然後裡面有一個path的變數\n",
        "\n",
        "我們把它印出來，然後增加一個 '/content/mylib'\n",
        "\n",
        "這樣python就會找mylib中的py檔案了"
      ]
    },
    {
      "cell_type": "code",
      "execution_count": null,
      "metadata": {
        "colab": {
          "base_uri": "https://localhost:8080/"
        },
        "id": "jwRi-nXWi0Eh",
        "outputId": "b5131f30-a52d-42c0-d004-6345a5515f69"
      },
      "outputs": [
        {
          "name": "stdout",
          "output_type": "stream",
          "text": [
            "['/content', '/env/python', '/usr/lib/python310.zip', '/usr/lib/python3.10', '/usr/lib/python3.10/lib-dynload', '', '/usr/local/lib/python3.10/dist-packages', '/usr/lib/python3/dist-packages', '/usr/local/lib/python3.10/dist-packages/IPython/extensions', '/root/.ipython']\n"
          ]
        }
      ],
      "source": [
        "import sys\n",
        "print(sys.path)\n",
        "\n",
        "sys.path.append('/content/mylib')\n"
      ]
    },
    {
      "cell_type": "markdown",
      "metadata": {
        "id": "dlJLJgXikFJw"
      },
      "source": [
        "好吧，那接下來的任務，就是交給你們自己去找module，然後拿進來用了。"
      ]
    },
    {
      "cell_type": "code",
      "execution_count": null,
      "metadata": {
        "colab": {
          "base_uri": "https://localhost:8080/"
        },
        "id": "JVN9GtCEeA6i",
        "outputId": "431a1088-1f1e-4e1f-c82f-079628da8af5"
      },
      "outputs": [
        {
          "name": "stdout",
          "output_type": "stream",
          "text": [
            "Matrix Multiplication:\n",
            "[[ 30  24  18]\n",
            " [ 84  69  54]\n",
            " [138 114  90]]\n"
          ]
        }
      ],
      "source": [
        "import numpy as np\n",
        "\n",
        "matrix1 = np.array([[1, 2, 3],\n",
        "           [4, 5, 6],\n",
        "           [7, 8, 9]])\n",
        "\n",
        "matrix2 = np.array([[9, 8, 7],\n",
        "           [6, 5, 4],\n",
        "           [3, 2, 1]])\n",
        "\n",
        "result = np.dot(matrix1, matrix2)\n",
        "print(\"Matrix Multiplication:\")\n",
        "print(result)\n"
      ]
    },
    {
      "cell_type": "code",
      "execution_count": null,
      "metadata": {
        "colab": {
          "base_uri": "https://localhost:8080/"
        },
        "id": "YJA1Z10zMDX5",
        "outputId": "3bc6d943-a1bf-4e06-fd69-a561999067ac"
      },
      "outputs": [],
      "source": [
        "import sympy as sy\n",
        "\n",
        "# 定义符号变量\n",
        "x, y = sy.symbols('x y')\n",
        "\n",
        "# 定义表达式\n",
        "expr = x*x + 2*x + 1\n",
        "print(\"Expression:\", expr)\n",
        "\n",
        "eq = x**3 - 5\n",
        "solution = sy.solve(eq, x)\n",
        "print(solution)"
      ]
    },
    {
      "cell_type": "code",
      "execution_count": null,
      "metadata": {
        "colab": {
          "base_uri": "https://localhost:8080/"
        },
        "id": "ilE2OKL8N_Jx",
        "outputId": "b3b07931-cea1-430a-f3f1-9a9f0b9508f2"
      },
      "outputs": [
        {
          "name": "stdout",
          "output_type": "stream",
          "text": [
            "Closure: False\n",
            "Associativity: True\n",
            "Identity: False\n",
            "Inverses: True\n"
          ]
        }
      ],
      "source": [
        "class Group:\n",
        "    def __init__(self, elements, operation):\n",
        "        self.elements = elements  # 群的元素\n",
        "        self.operation = operation  # 群的二元运算\n",
        "\n",
        "    def is_closed(self):\n",
        "        for a in self.elements:\n",
        "            for b in self.elements:\n",
        "                if self.operation(a, b) not in self.elements:\n",
        "                    return False\n",
        "        return True\n",
        "\n",
        "    def is_associative(self):\n",
        "        for a in self.elements:\n",
        "            for b in self.elements:\n",
        "                for c in self.elements:\n",
        "                    if self.operation(self.operation(a, b), c) != self.operation(a, self.operation(b, c)):\n",
        "                        return False\n",
        "        return True\n",
        "\n",
        "    def has_identity(self):\n",
        "        for a in self.elements:\n",
        "            has_identity = False\n",
        "            for b in self.elements:\n",
        "                if self.operation(a, b) == b and self.operation(b, a) == b:\n",
        "                    has_identity = True\n",
        "            if not has_identity:\n",
        "                return False\n",
        "        return True\n",
        "\n",
        "    def has_inverses(self):\n",
        "        for a in self.elements:\n",
        "            has_inverse = False\n",
        "            for b in self.elements:\n",
        "                if self.operation(a, b) == self.operation(b, a):\n",
        "                    has_inverse = True\n",
        "            if not has_inverse:\n",
        "                return False\n",
        "        return True\n",
        "\n",
        "\n",
        "# 示例：整数加法群\n",
        "def addition(a, b):\n",
        "    return a + b\n",
        "\n",
        "integer_set = {0, 1, 2, 3, 4}\n",
        "integer_addition_group = Group(integer_set, addition)\n",
        "\n",
        "print(\"Closure:\", integer_addition_group.is_closed())\n",
        "print(\"Associativity:\", integer_addition_group.is_associative())\n",
        "print(\"Identity:\", integer_addition_group.has_identity())\n",
        "print(\"Inverses:\", integer_addition_group.has_inverses())\n"
      ]
    },
    {
      "cell_type": "markdown",
      "metadata": {
        "id": "div3Tk2qkT3h"
      },
      "source": [
        "# 作業\n",
        "\n",
        "以下就是\"下\"星期五要交的工作\n",
        "1. 自己寫一個程式，可以讓Group產生時，自己定義一個elements的list，然後檢查這個list裡面的任兩個元素經過op的函數之後，是不是都落在這個list裡面，如果是的話，就印出它滿足封閉性，如果不是就印出哪兩個元素算出來之後沒有落在這個list裡面(進階問題：對於每一個元素a，要找出它的反元素b，它會滿足 op(a,b,p) = 單位元素) 請參照: https://zh.wikipedia.org/zh-tw/%E7%BE%A4\n",
        "2. 透過 import numpy as np，寫一些跟矩陣相關的運算\n",
        "3. 透過 import sympy as sy，寫一些跟符號運算相關的計算\n",
        "\n",
        "\n",
        "(類似的考題: 請把一個list，運算函數，跟一個質數p放在一個類別中，並在類別中定義一個函數，檢查op(a,(b○c))==(op((a○b),c))"
      ]
    },
    {
      "cell_type": "markdown",
      "metadata": {
        "id": "PnVakQxD0uw_"
      },
      "source": [
        "以下是第一題的答案"
      ]
    },
    {
      "cell_type": "code",
      "execution_count": 43,
      "metadata": {
        "id": "6EAX1p4LyT3F"
      },
      "outputs": [
        {
          "name": "stdout",
          "output_type": "stream",
          "text": [
            "[0, 0, 0, 0, 0, 0, 0, 0, 0, 0, 0]\n",
            "[0, 1, 2, 3, 4, 5, 6, 7, 8, 9, 0]\n",
            "[0, 2, 4, 6, 8, 0, 2, 4, 6, 8, 0]\n",
            "[0, 3, 6, 9, 2, 5, 8, 1, 4, 7, 0]\n",
            "[0, 4, 8, 2, 6, 0, 4, 8, 2, 6, 0]\n",
            "[0, 5, 0, 5, 0, 5, 0, 5, 0, 5, 0]\n",
            "[0, 6, 2, 8, 4, 0, 6, 2, 8, 4, 0]\n",
            "[0, 7, 4, 1, 8, 5, 2, 9, 6, 3, 0]\n",
            "[0, 8, 6, 4, 2, 0, 8, 6, 4, 2, 0]\n",
            "[0, 9, 8, 7, 6, 5, 4, 3, 2, 1, 0]\n",
            "[0, 0, 0, 0, 0, 0, 0, 0, 0, 0, 0]\n",
            "Closure: True\n",
            "Associativity: True\n",
            "Identity: True\n",
            "Inverses: True\n"
          ]
        }
      ],
      "source": [
        "class Group:\n",
        "    def __init__(self, elements, operation):\n",
        "        self.elements = elements \n",
        "        self.operation = operation \n",
        "\n",
        "    def is_closed(self):\n",
        "        for a in self.elements:\n",
        "            for b in self.elements:\n",
        "                if self.operation(a, b) not in self.elements:\n",
        "                    return False\n",
        "        return True\n",
        "\n",
        "    def is_associative(self):\n",
        "        for a in self.elements:\n",
        "            for b in self.elements:\n",
        "                for c in self.elements:\n",
        "                    if self.operation(self.operation(a, b), c) != self.operation(a, self.operation(b, c)):\n",
        "                        return False\n",
        "        return True\n",
        "\n",
        "    def has_identity(self):\n",
        "        for a in self.elements:\n",
        "            has_identity = False\n",
        "            for b in self.elements:\n",
        "                if self.operation(a, b) == b and self.operation(b, a) == b:\n",
        "                    has_identity = True\n",
        "            if not has_identity:\n",
        "                return False\n",
        "        return True\n",
        "\n",
        "    def has_inverses(self):\n",
        "        for a in self.elements:\n",
        "            has_inverse = False\n",
        "            for b in self.elements:\n",
        "                if self.operation(a, b) == self.operation(b, a):\n",
        "                    has_inverse = True\n",
        "            if not has_inverse:\n",
        "                return False\n",
        "        return True\n",
        "    \n",
        "\n",
        "table=[[0]*11 for i in range(11)]\n",
        "\n",
        "def op(a,b) :\n",
        "    return (a*b+10)%10\n",
        "\n",
        "element_list = []\n",
        "for i in range(11) :\n",
        "    element_list.append(i)\n",
        "\n",
        "for i in element_list :\n",
        "    for j in element_list :\n",
        "        table[i][j] = op(i,j)\n",
        "\n",
        "for i in table :\n",
        "    print(i)\n",
        "\n",
        "group = Group(element_list , op )\n",
        "\n",
        "print(\"Closure:\", group.is_closed())\n",
        "print(\"Associativity:\", group.is_associative())\n",
        "print(\"Identity:\", group.has_identity())\n",
        "print(\"Inverses:\", group.has_inverses())"
      ]
    },
    {
      "cell_type": "markdown",
      "metadata": {
        "id": "1s3VuFGO2blH"
      },
      "source": [
        "以下是第二題的答案"
      ]
    },
    {
      "cell_type": "code",
      "execution_count": null,
      "metadata": {
        "id": "Q0T0j1DgyZsj"
      },
      "outputs": [],
      "source": [
        "import numpy as np\n",
        "\n",
        "a = np.matrix([[2,-1,2],[-1,3,-1],[2,-1,4]])\n",
        "b = np.matrix([[2,1,0],[1,0,-1],[0,1,4]])\n",
        "\n",
        "check_a = True\n",
        "for i in range(1,4) :\n",
        "    submatrix = a[:i,:i]\n",
        "    if np.linalg.det(submatrix) <= 0 :\n",
        "        check_a = False\n",
        "\n",
        "check_b = True\n",
        "for i in range(1,4) :\n",
        "    submatrix = b[:i,:i]\n",
        "    if np.linalg.det(submatrix) <= 0 :\n",
        "        check_b = False\n",
        "        break\n",
        "\n",
        "\n",
        "if check_a : print(\"a is Positive definite\")\n",
        "else : print(\"a is not Positive definite\")\n",
        "\n",
        "if check_b : print(\"b is Positive definite\")\n",
        "else : print(\"b is not Positive definite\")"
      ]
    },
    {
      "cell_type": "markdown",
      "metadata": {
        "id": "hzl1Uvag2d71"
      },
      "source": [
        "以下是第三題的答案"
      ]
    },
    {
      "cell_type": "code",
      "execution_count": null,
      "metadata": {
        "id": "66mcfHB32g7j"
      },
      "outputs": [],
      "source": [
        "import sympy as sy\n",
        "\n",
        "x = sy.symbols('x')\n",
        "y = sy.symbols('y')\n",
        "\n",
        "\n",
        "print( sy.expand( (x+y)**2 - (x-y)**2 ) )\n",
        "\n",
        "print( sy.expand( (x-1)*(x-2)*(x-3)*(x-4) ) )\n",
        "\n",
        "print( sy.factor( x**4-1 ) )\n",
        "\n",
        "print( sy.limit( (x**2-4)/(x**3 -2*x**2 +2*x -4) , x, 2 ) )"
      ]
    }
  ],
  "metadata": {
    "colab": {
      "provenance": []
    },
    "kernelspec": {
      "display_name": "Python 3",
      "name": "python3"
    },
    "language_info": {
      "codemirror_mode": {
        "name": "ipython",
        "version": 3
      },
      "file_extension": ".py",
      "mimetype": "text/x-python",
      "name": "python",
      "nbconvert_exporter": "python",
      "pygments_lexer": "ipython3",
      "version": "3.11.4"
    }
  },
  "nbformat": 4,
  "nbformat_minor": 0
}
