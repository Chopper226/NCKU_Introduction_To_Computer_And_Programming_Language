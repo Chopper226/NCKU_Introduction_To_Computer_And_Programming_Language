{
  "cells": [
    {
      "cell_type": "markdown",
      "metadata": {
        "id": "4IOY_8OTvXga"
      },
      "source": [
        "\n",
        "#### 變數\n",
        "\n",
        "```python\n",
        "# 以下有很多不同的變數，你可以試試看 print(type(變數名稱)) 了解他們是什麼變數\n",
        "a = 1\n",
        "b = [1,2,3]\n",
        "c = (1,2,3)\n",
        "d = {1,2,3}\n",
        "e = {'a':1, 'b':2, 'c':3}\n",
        "f = 'a'\n",
        "g = 'abcde'\n",
        "h = {'apple': \"蘋果\", 'banana':'香蕉', 'cat': 'my favorite'}\n",
        "I = '我'\n",
        "k = 2+3j\n",
        "```\n"
      ]
    },
    {
      "cell_type": "code",
      "execution_count": 20,
      "metadata": {
        "colab": {
          "base_uri": "https://localhost:8080/"
        },
        "id": "N-buNpvfve9y",
        "outputId": "b32961f7-1191-444e-9693-4567915797c2"
      },
      "outputs": [
        {
          "name": "stdout",
          "output_type": "stream",
          "text": [
            "<class 'complex'>\n",
            "(4+9.5j)\n",
            "蘋果\n"
          ]
        }
      ],
      "source": [
        "a = 1\n",
        "b = [1,2,3]\n",
        "c = (1,2,3)\n",
        "d = {1,2,3}\n",
        "e = {'a':1, 'b':2, 'c':3}\n",
        "f = 'a'\n",
        "g = 'abcde'\n",
        "h = {'apple': \"蘋果\", 'banana':'香蕉', 'cat': 'my favorite'}\n",
        "I = '我'\n",
        "j = 3\n",
        "k = 2+1j/2\n",
        "\n",
        "\n",
        "print(type(k))\n",
        "print(k*(3+4j))\n",
        "print(h['apple'])"
      ]
    },
    {
      "cell_type": "code",
      "execution_count": 21,
      "metadata": {
        "colab": {
          "base_uri": "https://localhost:8080/"
        },
        "id": "9SXcYKrpAoaz",
        "outputId": "e298924f-3706-4210-e0a5-3ec84523fb22"
      },
      "outputs": [
        {
          "name": "stdout",
          "output_type": "stream",
          "text": [
            "<class 'list'>\n",
            "[[1, 2, 3], [4, 5, 6], [7, 8, 9, 'x'], 'x']\n",
            "[1, 2, 3]\n",
            "[4, 5, 6]\n",
            "x\n",
            "3\n",
            "[[1, 2, 'a'], [4, 5, 6], [7, 8, 9, 'x'], 'x']\n"
          ]
        }
      ],
      "source": [
        "M = [[1,2,3],[4,5,6],[7,8,9,'x'],'x']\n",
        "# M = [M[0],M[1],M[2],...]\n",
        "# M[0] = [1,2,3], M[0][0] = 1, M[0][1] = 2, M[0][2] = 3\n",
        "print(type(M))\n",
        "print(M)\n",
        "print(M[0])\n",
        "print(M[1])\n",
        "print(M[3])\n",
        "print(M[0][2])\n",
        "M[0][2] = 'a'\n",
        "print(M)"
      ]
    },
    {
      "cell_type": "code",
      "execution_count": null,
      "metadata": {
        "id": "r9vaWHWvC5To"
      },
      "outputs": [],
      "source": [
        "L = (1,2,3)\n",
        "print(L[1])\n",
        "L[1] = 5"
      ]
    },
    {
      "cell_type": "code",
      "execution_count": null,
      "metadata": {
        "colab": {
          "base_uri": "https://localhost:8080/"
        },
        "id": "iSJwxJ9OEJcW",
        "outputId": "0d30b900-d2ae-412f-f08e-35144daa47ce"
      },
      "outputs": [
        {
          "name": "stdout",
          "output_type": "stream",
          "text": [
            "{1, 2, 3.14159, 3, 4, 5.6, 7, -1}\n",
            "1\n",
            "2\n",
            "3.14159\n",
            "3\n",
            "4\n",
            "5.6\n",
            "7\n",
            "-1\n"
          ]
        }
      ],
      "source": [
        "N = {3.14159,1,2,3,1,4,7,-1,5.6}\n",
        "print(N)\n",
        "for x in N:\n",
        "  print(x)\n"
      ]
    },
    {
      "cell_type": "code",
      "execution_count": null,
      "metadata": {
        "colab": {
          "base_uri": "https://localhost:8080/"
        },
        "id": "PPwY8ufvF0_s",
        "outputId": "fa7e3295-3e5c-4e2d-8999-22172e8fbcbb"
      },
      "outputs": [
        {
          "name": "stdout",
          "output_type": "stream",
          "text": [
            "-4\n",
            "15\n"
          ]
        }
      ],
      "source": [
        "P = '1'\n",
        "\n",
        "print(int(P)-int('5'))\n",
        "print(str(1)+str(5))"
      ]
    },
    {
      "cell_type": "markdown",
      "metadata": {
        "id": "OODeInUBkvVA"
      },
      "source": [
        "#### 使用範例：\n",
        "\n",
        "```python\n",
        "for element in iterable:\n",
        "    # 做一些事情\n",
        "\n",
        "```\n",
        "請透過上面的範例，改"
      ]
    },
    {
      "cell_type": "code",
      "execution_count": null,
      "metadata": {
        "id": "nubh9AC2kQwq"
      },
      "outputs": [],
      "source": [
        "a = 1\n",
        "b = [1,2,3]\n",
        "c = (1,2,3)\n",
        "d = {1,2,3}\n",
        "e = {'a':1, 'b':2, 'c':3}\n",
        "k = 2+3j"
      ]
    },
    {
      "cell_type": "markdown",
      "metadata": {
        "id": "div3Tk2qkT3h"
      },
      "source": [
        "以下就是星期五要交的工作\n",
        "1. 寫一個變數，型別是字典，就是說明你在這一週學到的python關鍵字\n",
        "2. 寫一個程式，可以體驗出( ), [ ] 以及 {} 這三種不同變數的差別\n",
        "3. 寫一個程式，找出int, float, str的極限在哪裡？\n",
        "4. 請把上面課程有介紹的部分，加上你自已的註解。\n",
        "5. 請把這個檔案，透過另存新檔，或是分享連結的方式，繳交到moodle中。"
      ]
    },
    {
      "cell_type": "markdown",
      "metadata": {
        "id": "PnVakQxD0uw_"
      },
      "source": [
        "以下是第一題的答案"
      ]
    },
    {
      "cell_type": "code",
      "execution_count": null,
      "metadata": {
        "id": "6EAX1p4LyT3F"
      },
      "outputs": [],
      "source": [
        "python_keyword = { 'print': '輸出' ,\n",
        "                    'type': '類型' ,\n",
        "                    'int' : '整數' ,\n",
        "                    'float': '浮點數' ,\n",
        "                    'str': '字串' ,\n",
        "                    'dict': '字典' }\n",
        "\n"
      ]
    },
    {
      "cell_type": "markdown",
      "metadata": {
        "id": "1s3VuFGO2blH"
      },
      "source": [
        "以下是第二題的答案"
      ]
    },
    {
      "cell_type": "code",
      "execution_count": 6,
      "metadata": {
        "id": "Q0T0j1DgyZsj"
      },
      "outputs": [
        {
          "name": "stdout",
          "output_type": "stream",
          "text": [
            "() : <class 'tuple'>\n",
            "[] : <class 'list'>\n",
            "{} : <class 'dict'>\n"
          ]
        }
      ],
      "source": [
        "print(\"() :\" ,type(()))\n",
        "print(\"[] :\" ,type([]))\n",
        "print(\"{} :\" ,type({}))"
      ]
    },
    {
      "cell_type": "markdown",
      "metadata": {
        "id": "hzl1Uvag2d71"
      },
      "source": [
        "以下是第三題的答案"
      ]
    },
    {
      "cell_type": "code",
      "execution_count": 7,
      "metadata": {
        "id": "66mcfHB32g7j"
      },
      "outputs": [
        {
          "name": "stdout",
          "output_type": "stream",
          "text": [
            "Integer limit: 9223372036854775807\n",
            "Float limit: 1.7976931348623157e+308\n",
            "String limit: 9223372036854775807\n"
          ]
        }
      ],
      "source": [
        "import sys\n",
        "\n",
        "int_limit = sys.maxsize\n",
        "print(\"Integer limit:\", int_limit)\n",
        "\n",
        "float_limit = sys.float_info.max\n",
        "print(\"Float limit:\", float_limit)\n",
        "\n",
        "str_limit = sys.maxsize\n",
        "print(\"String limit:\", str_limit)"
      ]
    },
    {
      "cell_type": "markdown",
      "metadata": {
        "id": "HPWPPj4X2hVg"
      },
      "source": [
        "以下是第四題的答案"
      ]
    },
    {
      "cell_type": "code",
      "execution_count": null,
      "metadata": {},
      "outputs": [],
      "source": [
        "a = 1 #int\n",
        "b = [1,2,3] #list\n",
        "c = (1,2,3) #tuple\n",
        "d = {1,2,3} #set\n",
        "e = {'a':1, 'b':2, 'c':3} #dict\n",
        "f = 'a' #str\n",
        "g = 'abcde' #str\n",
        "h = {'apple': \"蘋果\", 'banana':'香蕉', 'cat': 'my favorite'} #dict\n",
        "I = '我' #str\n",
        "j = 3 #int\n",
        "k = 2+1j/2 #complex\n",
        "\n",
        "\n",
        "print(type(k)) #輸出 k 的型態\n",
        "print(k*(3+4j)) # 輸出 k*(3+4j)\n",
        "print(h['apple']) # 輸出 h['apple'] 的對應值"
      ]
    },
    {
      "cell_type": "code",
      "execution_count": null,
      "metadata": {},
      "outputs": [],
      "source": [
        "M = [[1,2,3],[4,5,6],[7,8,9,'x'],'x']\n",
        "# M = [M[0],M[1],M[2],...]\n",
        "# M[0] = [1,2,3], M[0][0] = 1, M[0][1] = 2, M[0][2] = 3\n",
        "print(type(M)) # 輸出 M 的型態\n",
        "print(M) # 輸出 M\n",
        "print(M[0]) # 輸出 M 的第 1 個值\n",
        "print(M[1]) # 輸出 M 的第 2 個值\n",
        "print(M[3]) # 輸出 M 的第 4 個值\n",
        "print(M[0][2]) # 輸出 M 的第 1 個 的第 2 個值\n",
        "M[0][2] = 'a' # M 的第 1 個 的第 2 個值 = 'a'\n",
        "print(M) # 輸出 M"
      ]
    }
  ],
  "metadata": {
    "colab": {
      "provenance": []
    },
    "kernelspec": {
      "display_name": "Python 3",
      "name": "python3"
    },
    "language_info": {
      "codemirror_mode": {
        "name": "ipython",
        "version": 3
      },
      "file_extension": ".py",
      "mimetype": "text/x-python",
      "name": "python",
      "nbconvert_exporter": "python",
      "pygments_lexer": "ipython3",
      "version": "3.11.4"
    }
  },
  "nbformat": 4,
  "nbformat_minor": 0
}
